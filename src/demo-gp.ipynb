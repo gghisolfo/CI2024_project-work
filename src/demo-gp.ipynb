{
 "cells": [
  {
   "cell_type": "code",
   "execution_count": 10,
   "metadata": {},
   "outputs": [],
   "source": [
    "import numpy as np\n",
    "from gplearn.genetic import SymbolicRegressor\n",
    "import matplotlib.pyplot as plt\n",
    "from sklearn.model_selection import train_test_split\n",
    "from sklearn.metrics import mean_squared_error"
   ]
  },
  {
   "cell_type": "code",
   "execution_count": 11,
   "metadata": {},
   "outputs": [],
   "source": [
    "from gplearn.functions import make_function\n",
    "\n",
    "# Definizione delle funzioni personalizzate\n",
    "def protected_pow2(x):\n",
    "    # Calcola 2^x con protezione per evitare overflow\n",
    "    return np.where(x < 20, np.power(2, x), np.power(2, 20))\n",
    "\n",
    "def protected_pow3(x):\n",
    "    # Calcola 3^x con protezione per evitare overflow\n",
    "    return np.where(x < 12, np.power(3, x), np.power(3, 12))\n",
    "\n"
   ]
  },
  {
   "cell_type": "code",
   "execution_count": 14,
   "metadata": {},
   "outputs": [
    {
     "name": "stdout",
     "output_type": "stream",
     "text": [
      "problem number 0 -----------------> ((5000, 3), (5000,))\n"
     ]
    },
    {
     "name": "stderr",
     "output_type": "stream",
     "text": [
      "C:\\Users\\user\\AppData\\Local\\Packages\\PythonSoftwareFoundation.Python.3.10_qbz5n2kfra8p0\\LocalCache\\local-packages\\Python310\\site-packages\\sklearn\\base.py:474: FutureWarning: `BaseEstimator._validate_data` is deprecated in 1.6 and will be removed in 1.7. Use `sklearn.utils.validation.validate_data` instead. This function becomes public and is part of the scikit-learn developer API.\n",
      "  warnings.warn(\n",
      "C:\\Users\\user\\AppData\\Local\\Temp\\ipykernel_7608\\546605376.py:6: RuntimeWarning: overflow encountered in power\n",
      "  return np.where(x < 20, np.power(2, x), np.power(2, 20))\n",
      "C:\\Users\\user\\AppData\\Local\\Packages\\PythonSoftwareFoundation.Python.3.10_qbz5n2kfra8p0\\LocalCache\\local-packages\\Python310\\site-packages\\gplearn\\functions.py:127: RuntimeWarning: overflow encountered in divide\n",
      "  return np.where(np.abs(x2) > 0.001, np.divide(x1, x2), 1.)\n",
      "C:\\Users\\user\\AppData\\Local\\Packages\\PythonSoftwareFoundation.Python.3.10_qbz5n2kfra8p0\\LocalCache\\local-packages\\Python310\\site-packages\\gplearn\\functions.py:144: RuntimeWarning: overflow encountered in divide\n",
      "  return np.where(np.abs(x1) > 0.001, 1. / x1, 0.)\n",
      "C:\\Users\\user\\AppData\\Local\\Temp\\ipykernel_7608\\546605376.py:6: RuntimeWarning: overflow encountered in power\n",
      "  return np.where(x < 20, np.power(2, x), np.power(2, 20))\n",
      "C:\\Users\\user\\AppData\\Local\\Packages\\PythonSoftwareFoundation.Python.3.10_qbz5n2kfra8p0\\LocalCache\\local-packages\\Python310\\site-packages\\sklearn\\base.py:474: FutureWarning: `BaseEstimator._validate_data` is deprecated in 1.6 and will be removed in 1.7. Use `sklearn.utils.validation.validate_data` instead. This function becomes public and is part of the scikit-learn developer API.\n",
      "  warnings.warn(\n",
      "C:\\Users\\user\\AppData\\Local\\Temp\\ipykernel_7608\\546605376.py:6: RuntimeWarning: overflow encountered in power\n",
      "  return np.where(x < 20, np.power(2, x), np.power(2, 20))\n"
     ]
    },
    {
     "name": "stdout",
     "output_type": "stream",
     "text": [
      "-------------------Best formula: add(add(pow2(pow2(pow2(mul(max(pow2(X0), X0), sub(pow2(max(X0, X2)), sqrt(div(min(X0, X0), pow2(pow2(pow2(pow2(X0))))))))))), add(div(X0, 0.003), add(add(pow2(mul(pow2(X1), pow2(mul(max(pow2(X0), X0), sub(pow2(max(X0, X2)), sqrt(pow2(X0))))))), sub(add(sub(abs(pow2(pow2(mul(max(min(0.089, X1), X0), sub(pow2(pow2(max(X0, X2))), inv(sqrt(tan(X0)))))))), add(inv(X1), pow2(add(sub(abs(min(X0, X0)), add(inv(X1), div(X0, 0.003))), pow2(pow2(add(pow2(min(X0, X0)), sqrt(X2)))))))), pow2(pow2(add(pow2(min(X0, X0)), sqrt(X2))))), mul(max(X0, X0), sub(pow2(mul(X0, X2)), inv(neg(X2)))))), div(div(X0, 0.003), 0.003)))), add(pow2(pow2(pow2(X0))), sub(add(sub(abs(pow2(pow2(mul(max(min(0.089, X1), X0), sub(pow2(max(X0, X2)), inv(add(pow2(pow2(pow2(X0))), pow2(div(div(X0, 0.003), 0.003))))))))), add(inv(X1), pow2(add(sub(abs(pow2(pow2(mul(max(min(0.089, X1), X0), sub(pow2(max(X0, X2)), inv(pow2(pow2(add(pow2(min(X0, X0)), mul(max(sin(max(sqrt(tan(X0)), X2)), X0), sub(pow2(max(X0, X2)), inv(neg(X2))))))))))))), add(inv(X1), div(X0, 0.003))), pow2(pow2(add(pow2(min(X0, X0)), sqrt(X2)))))))), sub(abs(pow2(pow2(pow2(mul(max(min(0.089, X1), X0), sub(pow2(max(X0, X2)), inv(add(pow2(pow2(pow2(X0))), pow2(pow2(add(pow2(pow2(pow2(X0))), add(sub(sub(pow2(pow2(mul(max(min(pow2(add(pow2(div(X0, 0.003)), sqrt(X2))), X1), X0), sub(pow2(max(X0, X2)), X0)))), neg(add(pow2(min(X0, X0)), X1))), neg(pow2(X0))), sqrt(X2))))))))))))), add(inv(X1), pow2(add(sub(abs(min(X0, X0)), add(inv(X1), div(X0, 0.003))), pow2(pow2(add(pow2(min(X0, X0)), sqrt(X2))))))))), tan(mul(cos(X2), tan(div(X0, -0.740)))))))\n",
      "Mean Squared Error on Test Set: 14535752655356.895\n",
      "problem number 1 -----------------> ((5000, 3), (5000,))\n"
     ]
    },
    {
     "name": "stderr",
     "output_type": "stream",
     "text": [
      "C:\\Users\\user\\AppData\\Local\\Packages\\PythonSoftwareFoundation.Python.3.10_qbz5n2kfra8p0\\LocalCache\\local-packages\\Python310\\site-packages\\gplearn\\functions.py:127: RuntimeWarning: overflow encountered in divide\n",
      "  return np.where(np.abs(x2) > 0.001, np.divide(x1, x2), 1.)\n",
      "C:\\Users\\user\\AppData\\Local\\Packages\\PythonSoftwareFoundation.Python.3.10_qbz5n2kfra8p0\\LocalCache\\local-packages\\Python310\\site-packages\\gplearn\\functions.py:144: RuntimeWarning: overflow encountered in divide\n",
      "  return np.where(np.abs(x1) > 0.001, 1. / x1, 0.)\n"
     ]
    },
    {
     "name": "stdout",
     "output_type": "stream",
     "text": [
      "-------------------Best formula: neg(add(add(inv(div(inv(X1), mul(X1, X1))), sub(add(X2, X2), max(mul(X0, X0), add(sqrt(mul(X2, X2)), mul(X0, X0))))), sub(max(neg(mul(X2, X2)), X2), mul(X0, X0))))\n",
      "Mean Squared Error on Test Set: 6.548710018640372\n",
      "problem number 2 -----------------> ((5000, 2), (5000,))\n"
     ]
    },
    {
     "name": "stderr",
     "output_type": "stream",
     "text": [
      "C:\\Users\\user\\AppData\\Local\\Packages\\PythonSoftwareFoundation.Python.3.10_qbz5n2kfra8p0\\LocalCache\\local-packages\\Python310\\site-packages\\sklearn\\base.py:474: FutureWarning: `BaseEstimator._validate_data` is deprecated in 1.6 and will be removed in 1.7. Use `sklearn.utils.validation.validate_data` instead. This function becomes public and is part of the scikit-learn developer API.\n",
      "  warnings.warn(\n",
      "C:\\Users\\user\\AppData\\Local\\Temp\\ipykernel_7608\\546605376.py:6: RuntimeWarning: overflow encountered in power\n",
      "  return np.where(x < 20, np.power(2, x), np.power(2, 20))\n"
     ]
    },
    {
     "name": "stdout",
     "output_type": "stream",
     "text": [
      "-------------------Best formula: sub(sub(cos(X1), mul(cos(max(X1, X1)), inv(neg(div(-0.219, -0.840))))), mul(pow2(cos(X1)), inv(neg(sin(sin(max(0.360, -0.358)))))))\n",
      "Mean Squared Error on Test Set: 0.13440040996459948\n",
      "problem number 3 -----------------> ((5000, 2), (5000,))\n"
     ]
    },
    {
     "name": "stderr",
     "output_type": "stream",
     "text": [
      "C:\\Users\\user\\AppData\\Local\\Packages\\PythonSoftwareFoundation.Python.3.10_qbz5n2kfra8p0\\LocalCache\\local-packages\\Python310\\site-packages\\sklearn\\base.py:474: FutureWarning: `BaseEstimator._validate_data` is deprecated in 1.6 and will be removed in 1.7. Use `sklearn.utils.validation.validate_data` instead. This function becomes public and is part of the scikit-learn developer API.\n",
      "  warnings.warn(\n",
      "C:\\Users\\user\\AppData\\Local\\Temp\\ipykernel_7608\\546605376.py:6: RuntimeWarning: overflow encountered in power\n",
      "  return np.where(x < 20, np.power(2, x), np.power(2, 20))\n",
      "C:\\Users\\user\\AppData\\Local\\Packages\\PythonSoftwareFoundation.Python.3.10_qbz5n2kfra8p0\\LocalCache\\local-packages\\Python310\\site-packages\\gplearn\\functions.py:144: RuntimeWarning: overflow encountered in divide\n",
      "  return np.where(np.abs(x1) > 0.001, 1. / x1, 0.)\n",
      "C:\\Users\\user\\AppData\\Local\\Temp\\ipykernel_7608\\546605376.py:6: RuntimeWarning: overflow encountered in power\n",
      "  return np.where(x < 20, np.power(2, x), np.power(2, 20))\n",
      "C:\\Users\\user\\AppData\\Local\\Packages\\PythonSoftwareFoundation.Python.3.10_qbz5n2kfra8p0\\LocalCache\\local-packages\\Python310\\site-packages\\sklearn\\base.py:474: FutureWarning: `BaseEstimator._validate_data` is deprecated in 1.6 and will be removed in 1.7. Use `sklearn.utils.validation.validate_data` instead. This function becomes public and is part of the scikit-learn developer API.\n",
      "  warnings.warn(\n"
     ]
    },
    {
     "name": "stdout",
     "output_type": "stream",
     "text": [
      "-------------------Best formula: add(abs(pow2(add(log(sub(abs(div(max(0.235, 0.330), sub(X1, X0))), sin(sub(abs(div(add(0.235, 0.330), add(abs(pow2(add(log(sub(abs(div(max(0.235, 0.330), sub(X1, X0))), 0.330)), add(abs(pow2(add(log(sub(abs(div(add(0.235, 0.330), sub(X1, X0))), sin(min(inv(0.696), cos(X0))))), add(abs(mul(X1, X0)), abs(div(max(0.235, 0.330), log(sub(abs(div(add(0.235, 0.330), sub(X1, X0))), sin(min(inv(0.696), cos(X0))))))))))), tan(pow2(-0.022)))))), pow2(add(log(neg(-0.497)), add(abs(abs(div(max(0.235, 0.330), log(sub(abs(div(add(0.235, 0.330), sub(X1, X0))), abs(pow2(pow2(log(X0))))))))), mul(X1, X0))))))), sin(min(tan(min(abs(div(max(0.235, 0.330), sub(X1, X0))), cos(X0))), cos(X0))))))), add(abs(mul(X1, X0)), tan(pow2(-0.022)))))), pow2(add(log(log(div(max(0.235, 0.330), sub(X1, X0)))), add(abs(mul(X1, X0)), mul(X1, X0)))))\n",
      "Mean Squared Error on Test Set: 111.84563765611503\n",
      "problem number 4 -----------------> ((50000, 6), (50000,))\n"
     ]
    },
    {
     "name": "stderr",
     "output_type": "stream",
     "text": [
      "C:\\Users\\user\\AppData\\Local\\Temp\\ipykernel_7608\\546605376.py:6: RuntimeWarning: overflow encountered in power\n",
      "  return np.where(x < 20, np.power(2, x), np.power(2, 20))\n",
      "C:\\Users\\user\\AppData\\Local\\Packages\\PythonSoftwareFoundation.Python.3.10_qbz5n2kfra8p0\\LocalCache\\local-packages\\Python310\\site-packages\\gplearn\\functions.py:127: RuntimeWarning: overflow encountered in divide\n",
      "  return np.where(np.abs(x2) > 0.001, np.divide(x1, x2), 1.)\n",
      "C:\\Users\\user\\AppData\\Local\\Packages\\PythonSoftwareFoundation.Python.3.10_qbz5n2kfra8p0\\LocalCache\\local-packages\\Python310\\site-packages\\gplearn\\functions.py:144: RuntimeWarning: overflow encountered in divide\n",
      "  return np.where(np.abs(x1) > 0.001, 1. / x1, 0.)\n"
     ]
    },
    {
     "name": "stdout",
     "output_type": "stream",
     "text": [
      "-------------------Best formula: mul(add(abs(max(add(max(sqrt(pow2(sqrt(pow2(abs(max(pow2(abs(sub(X5, 0.358))), sin(X0))))))), sin(div(sin(X5), max(X4, 0.020)))), pow2(sub(X5, X2))), sin(inv(X5)))), max(add(sqrt(pow2(abs(max(pow2(abs(X5)), sin(X0))))), sub(pow2(abs(X5)), X2)), sin(inv(X5)))), sub(X5, 0.358))\n",
      "Mean Squared Error on Test Set: 1667894.1611518345\n"
     ]
    },
    {
     "name": "stderr",
     "output_type": "stream",
     "text": [
      "C:\\Users\\user\\AppData\\Local\\Temp\\ipykernel_7608\\546605376.py:6: RuntimeWarning: overflow encountered in power\n",
      "  return np.where(x < 20, np.power(2, x), np.power(2, 20))\n"
     ]
    }
   ],
   "source": [
    "files =['../data/problem_0.npz', '../data/problem_1.npz', '../data/problem_2.npz', '../data/problem_3.npz', '../data/problem_4.npz', '../data/problem_5.npz',\n",
    "       '../data/problem_6.npz', '../data/problem_7.npz', '../data/problem_8.npz']\n",
    "#files =['../data/problem_0.npz', '../data/problem_1.npz',]\n",
    "\n",
    "file_bad=[ '../data/problem_2.npz', '../data/problem_3.npz', \n",
    "          '../data/problem_4.npz',\n",
    "        '../data/problem_7.npz', '../data/problem_8.npz']\n",
    "\n",
    "files_easy =['../data/problem_0.npz', '../data/problem_1.npz']\n",
    "\n",
    "for (index, file) in enumerate(file_bad, start=0):\n",
    "\n",
    "    problem = np.load(file)\n",
    "    x = problem['x'].T\n",
    "    y = problem['y']\n",
    "\n",
    "    print(\"problem number\",index,\"----------------->\", (x.shape, y.shape))\n",
    "\n",
    "    x_train, x_valid, y_train, y_valid = train_test_split(x, y, test_size=0.2, random_state=42)\n",
    "\n",
    "    # Define the symbolic regressor\n",
    "    est0 = SymbolicRegressor(\n",
    "        population_size=2000,\n",
    "        generations=20,\n",
    "        stopping_criteria=0.01,\n",
    "        p_crossover=0.7,\n",
    "        p_subtree_mutation=0.1,\n",
    "        p_hoist_mutation=0.05,\n",
    "        p_point_mutation=0.1,\n",
    "        max_samples=0.9,\n",
    "        verbose=1,\n",
    "        parsimony_coefficient=0.01,\n",
    "        random_state=42\n",
    "    )\n",
    "\n",
    "    # Creazione delle funzioni personalizzate utilizzando make_function\n",
    "    pow2_function = make_function(function=protected_pow2, name=\"pow2\", arity=1)\n",
    "    #pow3_function = make_function(function=protected_pow3, name=\"pow3\", arity=1)\n",
    "\n",
    "    est1 = SymbolicRegressor(\n",
    "        population_size=2000,\n",
    "        generations=20,\n",
    "        stopping_criteria=0.01,\n",
    "        p_crossover=0.7,\n",
    "        p_subtree_mutation=0.1,\n",
    "        p_hoist_mutation=0.05,\n",
    "        p_point_mutation=0.1,\n",
    "        max_samples=0.9,\n",
    "        verbose=0, #1\n",
    "        metric='mse',\n",
    "        parsimony_coefficient=0.01,\n",
    "        random_state=42,\n",
    "        function_set=['add', 'sub', 'mul', 'div', 'sqrt', 'log', 'abs', 'neg', 'inv', 'max', 'min', 'sin', 'cos', 'tan']\n",
    "    )\n",
    "\n",
    "\n",
    "\n",
    "    est2 = SymbolicRegressor(\n",
    "        population_size=2000,\n",
    "        generations=20,\n",
    "        stopping_criteria=0.01,\n",
    "        p_crossover=0.7,\n",
    "        p_subtree_mutation=0.1,\n",
    "        p_hoist_mutation=0.05,\n",
    "        p_point_mutation=0.1,\n",
    "        max_samples=0.9,\n",
    "        verbose=0, #1\n",
    "        metric='mse',\n",
    "        parsimony_coefficient=0.01,\n",
    "        random_state=42,\n",
    "        function_set=['add', 'sub', 'mul', 'div', 'sqrt', 'log', 'abs', 'neg', 'inv', 'max', 'min', 'sin', 'cos', 'tan', pow2_function]\n",
    "    )\n",
    "\n",
    "    #HERE-----------------------------------\n",
    "    est=est2\n",
    "\n",
    "    # Fit the model\n",
    "    #est.fit(x_train, y_train)\n",
    "    est.fit(x_train, y_train)\n",
    "\n",
    "    # Predict on test data\n",
    "    y_pred = est.predict(x_valid)\n",
    "\n",
    "    # Print the resulting formula\n",
    "    print(\"-------------------Best formula:\", est._program)\n",
    "\n",
    "    # Evaluate and visualize\n",
    "    mse = mean_squared_error(y_valid, y_pred)\n",
    "    print(f\"Mean Squared Error on Test Set: {mse}\")"
   ]
  }
 ],
 "metadata": {
  "kernelspec": {
   "display_name": "Python 3",
   "language": "python",
   "name": "python3"
  },
  "language_info": {
   "codemirror_mode": {
    "name": "ipython",
    "version": 3
   },
   "file_extension": ".py",
   "mimetype": "text/x-python",
   "name": "python",
   "nbconvert_exporter": "python",
   "pygments_lexer": "ipython3",
   "version": "3.10.11"
  }
 },
 "nbformat": 4,
 "nbformat_minor": 2
}
