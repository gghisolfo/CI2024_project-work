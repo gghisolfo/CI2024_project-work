{
 "cells": [
  {
   "cell_type": "code",
   "execution_count": 9,
   "metadata": {},
   "outputs": [],
   "source": [
    "import numpy as np\n",
    "from gplearn.genetic import SymbolicRegressor\n",
    "import matplotlib.pyplot as plt\n",
    "from sklearn.model_selection import train_test_split\n",
    "from sklearn.metrics import mean_squared_error"
   ]
  },
  {
   "cell_type": "code",
   "execution_count": 10,
   "metadata": {},
   "outputs": [
    {
     "data": {
      "text/plain": [
       "((500, 1), (500,))"
      ]
     },
     "execution_count": 10,
     "metadata": {},
     "output_type": "execute_result"
    }
   ],
   "source": [
    "problem = np.load('../data/problem_1.npz')\n",
    "x = problem['x'].T\n",
    "y = problem['y']\n",
    "\n",
    "x.shape, y.shape"
   ]
  },
  {
   "cell_type": "code",
   "execution_count": 11,
   "metadata": {},
   "outputs": [
    {
     "name": "stderr",
     "output_type": "stream",
     "text": [
      "C:\\Users\\user\\AppData\\Local\\Packages\\PythonSoftwareFoundation.Python.3.10_qbz5n2kfra8p0\\LocalCache\\local-packages\\Python310\\site-packages\\sklearn\\base.py:474: FutureWarning: `BaseEstimator._validate_data` is deprecated in 1.6 and will be removed in 1.7. Use `sklearn.utils.validation.validate_data` instead. This function becomes public and is part of the scikit-learn developer API.\n",
      "  warnings.warn(\n"
     ]
    },
    {
     "name": "stdout",
     "output_type": "stream",
     "text": [
      "    |   Population Average    |             Best Individual              |\n",
      "---- ------------------------- ------------------------------------------ ----------\n",
      " Gen   Length          Fitness   Length          Fitness      OOB Fitness  Time Left\n",
      "   0    49.61          14703.4       15        0.0194141        0.0218089     38.99s\n",
      "   1    10.87          1.59355       15         0.019358        0.0223132     24.72s\n",
      "   2     6.31         0.919549       15        0.0195138        0.0209111     22.98s\n",
      "   3     1.65         0.827663        7         0.019175        0.0244398     17.74s\n",
      "   4     1.71          3.76148        3        0.0267774        0.0255248     20.02s\n",
      "   5     1.69         0.267989        7        0.0200875         0.019622     19.56s\n",
      "   6     1.53          1.96656        1         0.035015        0.0572042     15.26s\n",
      "   7     1.52          165.314        1        0.0346334        0.0606383     15.25s\n",
      "   8     1.69         0.555737        3        0.0314635        0.0233225     10.82s\n",
      "   9     1.71          2.20067        3        0.0270848         0.029049     10.84s\n",
      "  10     1.81         0.579345        1        0.0337048        0.0689957      9.49s\n",
      "  11     1.50         0.276071        1        0.0345376        0.0615007      9.44s\n",
      "  12     1.64          1.74905        3        0.0278971        0.0289203      7.53s\n",
      "  13     1.56         0.432386        3        0.0198961        0.0165597      6.74s\n",
      "  14     1.83         0.410161        1        0.0345742        0.0611711      5.37s\n",
      "  15     1.60         0.295053        3        0.0235019         0.023531      5.02s\n",
      "  16     1.54         0.516906        7        0.0213886        0.0192775      3.09s\n",
      "  17     1.61          1.35728        1         0.034492        0.0619112      2.03s\n",
      "  18     1.39         0.601569        1        0.0344568        0.0622276      0.99s\n",
      "  19     1.57         0.307187        3        0.0286339        0.0273146      0.00s\n",
      "Best formula: mul(0.867, X0)\n"
     ]
    }
   ],
   "source": [
    "x_train, x_valid, y_train, y_valid = train_test_split(x, y, test_size=0.2, random_state=42)\n",
    "\n",
    "# Define the symbolic regressor\n",
    "est = SymbolicRegressor(\n",
    "    population_size=2000,\n",
    "    generations=20,\n",
    "    stopping_criteria=0.01,\n",
    "    p_crossover=0.7,\n",
    "    p_subtree_mutation=0.1,\n",
    "    p_hoist_mutation=0.05,\n",
    "    p_point_mutation=0.1,\n",
    "    max_samples=0.9,\n",
    "    verbose=1,\n",
    "    parsimony_coefficient=0.01,\n",
    "    random_state=42\n",
    ")\n",
    "\n",
    "# Fit the model\n",
    "est.fit(x_train, y_train)\n",
    "\n",
    "# Predict on test data\n",
    "y_pred = est.predict(x_valid)\n",
    "\n",
    "# Print the resulting formula\n",
    "print(\"Best formula:\", est._program)"
   ]
  },
  {
   "cell_type": "code",
   "execution_count": 12,
   "metadata": {},
   "outputs": [
    {
     "name": "stdout",
     "output_type": "stream",
     "text": [
      "Mean Squared Error on Test Set: 0.0010592511241927591\n"
     ]
    }
   ],
   "source": [
    "# Evaluate and visualize\n",
    "mse = mean_squared_error(y_valid, y_pred)\n",
    "print(f\"Mean Squared Error on Test Set: {mse}\")"
   ]
  }
 ],
 "metadata": {
  "kernelspec": {
   "display_name": "Python 3",
   "language": "python",
   "name": "python3"
  },
  "language_info": {
   "codemirror_mode": {
    "name": "ipython",
    "version": 3
   },
   "file_extension": ".py",
   "mimetype": "text/x-python",
   "name": "python",
   "nbconvert_exporter": "python",
   "pygments_lexer": "ipython3",
   "version": "3.10.11"
  }
 },
 "nbformat": 4,
 "nbformat_minor": 2
}
