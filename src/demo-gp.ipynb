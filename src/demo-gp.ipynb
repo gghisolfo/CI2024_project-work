{
 "cells": [
  {
   "cell_type": "code",
   "execution_count": 7,
   "metadata": {},
   "outputs": [],
   "source": [
    "import numpy as np\n",
    "from gplearn.genetic import SymbolicRegressor\n",
    "import matplotlib.pyplot as plt\n",
    "from sklearn.model_selection import train_test_split\n",
    "from sklearn.metrics import mean_squared_error"
   ]
  },
  {
   "cell_type": "code",
   "execution_count": 8,
   "metadata": {},
   "outputs": [
    {
     "name": "stdout",
     "output_type": "stream",
     "text": [
      "problem number 1 -----------------> ((1000, 2), (1000,))\n",
      "    |   Population Average    |             Best Individual              |\n",
      "---- ------------------------- ------------------------------------------ ----------\n",
      " Gen   Length          Fitness   Length          Fitness      OOB Fitness  Time Left\n"
     ]
    },
    {
     "name": "stderr",
     "output_type": "stream",
     "text": [
      "C:\\Users\\user\\AppData\\Local\\Packages\\PythonSoftwareFoundation.Python.3.10_qbz5n2kfra8p0\\LocalCache\\local-packages\\Python310\\site-packages\\sklearn\\base.py:474: FutureWarning: `BaseEstimator._validate_data` is deprecated in 1.6 and will be removed in 1.7. Use `sklearn.utils.validation.validate_data` instead. This function becomes public and is part of the scikit-learn developer API.\n",
      "  warnings.warn(\n"
     ]
    },
    {
     "name": "stdout",
     "output_type": "stream",
     "text": [
      "   0    37.95         2.44e+07        5        0.0913182         0.101076     40.09s\n",
      "   1    10.51          4.66147       35        0.0336774        0.0448514     21.68s\n",
      "   2     6.17           2.2241        7        0.0206465        0.0211656     19.05s\n",
      "   3     1.62           1.2801        7        0.0205167        0.0223341     16.39s\n",
      "   4     1.80         0.502547        7        0.0204261        0.0231494     16.20s\n",
      "   5     2.58          1.05212        5       0.00419889       0.00442659     14.79s\n",
      "-------------------Best formula: sub(X0, mul(-0.188, X1))\n",
      "Mean Squared Error on Test Set: 2.9642199184763113e-05\n",
      "problem number 2 -----------------> ((500, 1), (500,))\n",
      "    |   Population Average    |             Best Individual              |\n",
      "---- ------------------------- ------------------------------------------ ----------\n",
      " Gen   Length          Fitness   Length          Fitness      OOB Fitness  Time Left\n"
     ]
    },
    {
     "name": "stderr",
     "output_type": "stream",
     "text": [
      "C:\\Users\\user\\AppData\\Local\\Packages\\PythonSoftwareFoundation.Python.3.10_qbz5n2kfra8p0\\LocalCache\\local-packages\\Python310\\site-packages\\sklearn\\base.py:474: FutureWarning: `BaseEstimator._validate_data` is deprecated in 1.6 and will be removed in 1.7. Use `sklearn.utils.validation.validate_data` instead. This function becomes public and is part of the scikit-learn developer API.\n",
      "  warnings.warn(\n"
     ]
    },
    {
     "name": "stdout",
     "output_type": "stream",
     "text": [
      "   0    49.61          14703.4       15        0.0194141        0.0218089     38.03s\n",
      "   1    10.87          1.59355       15         0.019358        0.0223132     22.98s\n",
      "   2     6.31         0.919549       15        0.0195138        0.0209111     20.69s\n",
      "   3     1.65         0.827663        7         0.019175        0.0244398     16.57s\n",
      "   4     1.71          3.76148        3        0.0267774        0.0255248     15.17s\n",
      "   5     1.69         0.267989        7        0.0200875         0.019622     14.21s\n",
      "   6     1.53          1.96656        1         0.035015        0.0572042     13.40s\n",
      "   7     1.52          165.314        1        0.0346334        0.0606383     13.19s\n",
      "   8     1.69         0.555737        3        0.0314635        0.0233225     11.05s\n",
      "   9     1.71          2.20067        3        0.0270848         0.029049     10.29s\n",
      "  10     1.81         0.579345        1        0.0337048        0.0689957      9.96s\n",
      "  11     1.50         0.276071        1        0.0345376        0.0615007      8.25s\n",
      "  12     1.64          1.74905        3        0.0278971        0.0289203      7.57s\n",
      "  13     1.56         0.432386        3        0.0198961        0.0165597      6.13s\n",
      "  14     1.83         0.410161        1        0.0345742        0.0611711      5.14s\n",
      "  15     1.60         0.295053        3        0.0235019         0.023531      4.15s\n",
      "  16     1.54         0.516906        7        0.0213886        0.0192775      3.06s\n",
      "  17     1.61          1.35728        1         0.034492        0.0619112      2.13s\n",
      "  18     1.39         0.601569        1        0.0344568        0.0622276      1.01s\n",
      "  19     1.57         0.307187        3        0.0286339        0.0273146      0.00s\n",
      "-------------------Best formula: mul(0.867, X0)\n",
      "Mean Squared Error on Test Set: 0.0010592511241927591\n",
      "problem number 3 -----------------> ((5000, 3), (5000,))\n",
      "    |   Population Average    |             Best Individual              |\n",
      "---- ------------------------- ------------------------------------------ ----------\n",
      " Gen   Length          Fitness   Length          Fitness      OOB Fitness  Time Left\n"
     ]
    },
    {
     "name": "stderr",
     "output_type": "stream",
     "text": [
      "C:\\Users\\user\\AppData\\Local\\Packages\\PythonSoftwareFoundation.Python.3.10_qbz5n2kfra8p0\\LocalCache\\local-packages\\Python310\\site-packages\\sklearn\\base.py:474: FutureWarning: `BaseEstimator._validate_data` is deprecated in 1.6 and will be removed in 1.7. Use `sklearn.utils.validation.validate_data` instead. This function becomes public and is part of the scikit-learn developer API.\n",
      "  warnings.warn(\n"
     ]
    },
    {
     "name": "stdout",
     "output_type": "stream",
     "text": [
      "   0    33.27        2.227e+07       15      4.86161e+06      5.28609e+06     44.65s\n",
      "   1    28.61      4.90663e+06       59       4.8224e+06      5.04621e+06     39.14s\n",
      "   2    34.09      5.08812e+06       51      4.72536e+06       4.7495e+06     37.28s\n",
      "   3    40.02      4.47662e+08       47      4.71388e+06      4.78502e+06     39.50s\n",
      "   4    58.82      6.02613e+09       53      4.69819e+06      4.88888e+06     42.07s\n",
      "   5    57.66      2.14418e+09       65      4.67896e+06      4.91483e+06     40.23s\n",
      "   6    59.69      1.82972e+09       57      4.68806e+06      4.97727e+06     36.81s\n",
      "   7    60.52      2.22122e+09       35      4.64268e+06      4.59408e+06     34.48s\n",
      "   8    64.06       1.4889e+09       31      4.62406e+06      4.72035e+06     32.50s\n",
      "   9    67.49       1.2614e+09       31      4.59737e+06      4.95865e+06     30.71s\n",
      "  10    55.67      4.96095e+09       31      4.58563e+06      4.80277e+06     25.39s\n",
      "  11    35.59      1.04049e+09       69      4.57799e+06      5.01412e+06     18.44s\n",
      "  12    37.63      2.59331e+09       37      4.27494e+06      4.12583e+06     17.31s\n",
      "  13    41.89      1.91663e+09       37       4.2521e+06      4.37205e+06     14.68s\n",
      "  14    41.92      1.07455e+09       37      4.23265e+06       4.5128e+06     12.71s\n",
      "  15    46.09      2.35663e+09       47      4.16304e+06      4.01373e+06     10.38s\n",
      "  16    51.84       1.1374e+10       39      4.13793e+06      4.36468e+06      8.24s\n",
      "  17    57.77       7.3879e+10       59      4.11818e+06      4.26805e+06      5.65s\n",
      "  18    57.45      3.00443e+09       69      4.11417e+06      4.38362e+06      3.02s\n",
      "  19    61.90      2.57304e+09       47      4.08399e+06      4.30767e+06      0.00s\n",
      "-------------------Best formula: mul(add(add(mul(X0, div(X2, -0.006)), sub(add(X1, X2), sub(add(X1, X2), div(mul(sub(div(add(X1, X1), sub(X1, 0.559)), sub(X2, mul(X1, X1))), mul(X1, X0)), 0.119)))), mul(mul(X0, X0), mul(X0, X0))), div(div(X2, -0.006), 0.377))\n",
      "Mean Squared Error on Test Set: 23205355024424.07\n",
      "problem number 4 -----------------> ((5000, 3), (5000,))\n",
      "    |   Population Average    |             Best Individual              |\n",
      "---- ------------------------- ------------------------------------------ ----------\n",
      " Gen   Length          Fitness   Length          Fitness      OOB Fitness  Time Left\n"
     ]
    },
    {
     "name": "stderr",
     "output_type": "stream",
     "text": [
      "C:\\Users\\user\\AppData\\Local\\Packages\\PythonSoftwareFoundation.Python.3.10_qbz5n2kfra8p0\\LocalCache\\local-packages\\Python310\\site-packages\\sklearn\\base.py:474: FutureWarning: `BaseEstimator._validate_data` is deprecated in 1.6 and will be removed in 1.7. Use `sklearn.utils.validation.validate_data` instead. This function becomes public and is part of the scikit-learn developer API.\n",
      "  warnings.warn(\n"
     ]
    },
    {
     "name": "stdout",
     "output_type": "stream",
     "text": [
      "   0    33.27      2.42385e+07        9          27.0422          27.4575     47.40s\n",
      "   1    11.65          52.2842        9          27.0997          26.9401     28.62s\n",
      "   2    14.38          103.152       17          21.3119          22.8707     28.40s\n",
      "   3    14.79          55.1355       27          18.8168          17.5467     29.27s\n",
      "   4    19.36          67.3282       27          17.9121          17.9241     28.85s\n",
      "   5    24.77          63.2271       19          17.0319          17.0693     30.60s\n",
      "   6    24.64          101.921       25          16.2918          16.0968     27.48s\n",
      "   7    24.98           42.267       27          15.8011          16.9189     24.54s\n",
      "   8    24.97          36.5662       35          15.8215          16.9302     25.23s\n",
      "   9    25.50          32.0101       25          15.8033          17.7427     21.90s\n",
      "  10    26.60          33.9826       29          15.7211          16.7301     18.62s\n",
      "  11    26.52          33.0107       35          15.6442          17.4902     17.21s\n",
      "  12    26.59          42.9356       31          15.6855          17.5939     14.41s\n",
      "  13    26.81          49.0012       31          15.6649           17.999     14.38s\n",
      "  14    26.21          50.8359       23          15.6759           17.206     10.38s\n",
      "  15    26.32           152.54       25          15.5333          18.8349      9.46s\n",
      "  16    26.15          33.8111       35          15.5099          17.7558      6.24s\n",
      "  17    26.91          36.5539       33          15.5476           17.285      4.41s\n",
      "  18    26.61          49.3317       27          15.6163          17.4791      2.35s\n",
      "  19    25.66          39.8377       23           15.562          17.8337      0.00s\n",
      "-------------------Best formula: add(sub(sub(mul(X0, X0), div(div(add(X1, -0.078), -0.390), -0.215)), add(-0.930, add(X2, add(X2, X2)))), mul(X0, X0))\n",
      "Mean Squared Error on Test Set: 434.6308280840388\n",
      "problem number 5 -----------------> ((5000, 2), (5000,))\n",
      "    |   Population Average    |             Best Individual              |\n",
      "---- ------------------------- ------------------------------------------ ----------\n",
      " Gen   Length          Fitness   Length          Fitness      OOB Fitness  Time Left\n"
     ]
    },
    {
     "name": "stderr",
     "output_type": "stream",
     "text": [
      "C:\\Users\\user\\AppData\\Local\\Packages\\PythonSoftwareFoundation.Python.3.10_qbz5n2kfra8p0\\LocalCache\\local-packages\\Python310\\site-packages\\sklearn\\base.py:474: FutureWarning: `BaseEstimator._validate_data` is deprecated in 1.6 and will be removed in 1.7. Use `sklearn.utils.validation.validate_data` instead. This function becomes public and is part of the scikit-learn developer API.\n",
      "  warnings.warn(\n"
     ]
    },
    {
     "name": "stdout",
     "output_type": "stream",
     "text": [
      "   0    37.95       1.1764e+07        3          3.96649          4.31342     52.23s\n",
      "   1    10.35          11.1915       17          3.94207          3.47371     28.56s\n",
      "   2     5.02          6.34729        3          3.95643          4.40401     25.38s\n",
      "   3     2.88          29.9505        1          3.95381          4.44509     22.67s\n",
      "   4     2.10          4.95953        1           3.9593          4.39566     20.50s\n",
      "   5     1.55          18.7206        1          3.95786          4.44868     19.19s\n",
      "   6     1.49          4.32772        1           3.9595          4.38876     19.64s\n",
      "   7     1.60          5.14626        1          3.96167          4.37432     16.99s\n",
      "   8     1.58           2163.6        1          3.95866          4.39628     15.19s\n",
      "   9     1.80           10.011        1          3.95772          4.40989     13.22s\n",
      "  10     1.62          5.34706        1          3.95949          4.39394     13.54s\n",
      "  11     1.51          5.84419        1          3.95934          4.39537     10.78s\n",
      "  12     1.55          4.84379        1          3.95426          4.43588      9.60s\n",
      "  13     1.50          9.23596        1          3.95545          4.43034      7.85s\n",
      "  14     1.52          4.79881        1          3.95195          4.46184      6.98s\n",
      "  15     1.74          5.22904        1          3.95563          4.42873      5.66s\n",
      "  16     1.61          23.1192        1          3.95612          4.41916      3.90s\n",
      "  17     1.54          4.63814        1          3.95582          4.42697      3.02s\n",
      "  18     1.47          8.83829        1          3.95051          4.47478      1.43s\n",
      "  19     1.49          4.90708        1          3.94684          4.50272      0.00s\n",
      "-------------------Best formula: 0.966\n",
      "Mean Squared Error on Test Set: 22.667369679439936\n",
      "problem number 6 -----------------> ((5000, 2), (5000,))\n",
      "    |   Population Average    |             Best Individual              |\n",
      "---- ------------------------- ------------------------------------------ ----------\n",
      " Gen   Length          Fitness   Length          Fitness      OOB Fitness  Time Left\n"
     ]
    },
    {
     "name": "stderr",
     "output_type": "stream",
     "text": [
      "C:\\Users\\user\\AppData\\Local\\Packages\\PythonSoftwareFoundation.Python.3.10_qbz5n2kfra8p0\\LocalCache\\local-packages\\Python310\\site-packages\\sklearn\\base.py:474: FutureWarning: `BaseEstimator._validate_data` is deprecated in 1.6 and will be removed in 1.7. Use `sklearn.utils.validation.validate_data` instead. This function becomes public and is part of the scikit-learn developer API.\n",
      "  warnings.warn(\n"
     ]
    },
    {
     "name": "stdout",
     "output_type": "stream",
     "text": [
      "   0    37.95      9.57199e+07       25      7.26275e-10      8.98283e-10     50.68s\n",
      "-------------------Best formula: mul(mul(sub(add(X0, X1), add(X1, X0)), mul(div(X1, X0), sub(0.384, 0.629))), sub(-0.720, sub(add(-0.502, X1), sub(X1, -0.558))))\n",
      "Mean Squared Error on Test Set: 6.023793117670641e-18\n",
      "problem number 7 -----------------> ((5000, 2), (5000,))\n",
      "    |   Population Average    |             Best Individual              |\n",
      "---- ------------------------- ------------------------------------------ ----------\n",
      " Gen   Length          Fitness   Length          Fitness      OOB Fitness  Time Left\n"
     ]
    },
    {
     "name": "stderr",
     "output_type": "stream",
     "text": [
      "C:\\Users\\user\\AppData\\Local\\Packages\\PythonSoftwareFoundation.Python.3.10_qbz5n2kfra8p0\\LocalCache\\local-packages\\Python310\\site-packages\\sklearn\\base.py:474: FutureWarning: `BaseEstimator._validate_data` is deprecated in 1.6 and will be removed in 1.7. Use `sklearn.utils.validation.validate_data` instead. This function becomes public and is part of the scikit-learn developer API.\n",
      "  warnings.warn(\n"
     ]
    },
    {
     "name": "stdout",
     "output_type": "stream",
     "text": [
      "   0    37.95           498274        7         0.733513          0.71309     52.39s\n",
      "   1    11.53          14.9767       13         0.195973         0.190186     29.25s\n",
      "   2     9.20          4.77595       13         0.193551          0.21199     28.46s\n",
      "   3     9.20          5.29178       15          0.15439         0.151034     25.01s\n",
      "   4     9.50          4.26564       15         0.153759         0.156716     23.81s\n",
      "   5    10.46          22.3252       15        0.0419953        0.0426601     25.62s\n",
      "   6     9.58          3.79505       19        0.0417746        0.0446462     20.71s\n",
      "   7     9.35          4.73044       19        0.0416232        0.0460087     19.53s\n",
      "   8    12.32          640.652       11         0.041662        0.0456593     19.07s\n",
      "   9    14.94          12.0385       15        0.0180636        0.0191328     16.67s\n",
      "  10    13.79          6.96722       11        0.0180477        0.0192754     14.38s\n",
      "  11    11.63          6.86815        7       0.00271655       0.00278834     13.09s\n",
      "-------------------Best formula: sub(X1, mul(sub(X0, X1), 0.695))\n",
      "Mean Squared Error on Test Set: 1.0900915244680978e-05\n",
      "problem number 8 -----------------> ((5000, 2), (5000,))\n",
      "    |   Population Average    |             Best Individual              |\n",
      "---- ------------------------- ------------------------------------------ ----------\n",
      " Gen   Length          Fitness   Length          Fitness      OOB Fitness  Time Left\n"
     ]
    },
    {
     "name": "stderr",
     "output_type": "stream",
     "text": [
      "C:\\Users\\user\\AppData\\Local\\Packages\\PythonSoftwareFoundation.Python.3.10_qbz5n2kfra8p0\\LocalCache\\local-packages\\Python310\\site-packages\\sklearn\\base.py:474: FutureWarning: `BaseEstimator._validate_data` is deprecated in 1.6 and will be removed in 1.7. Use `sklearn.utils.validation.validate_data` instead. This function becomes public and is part of the scikit-learn developer API.\n",
      "  warnings.warn(\n"
     ]
    },
    {
     "name": "stdout",
     "output_type": "stream",
     "text": [
      "   0    37.95          58594.7       15          7.45545           6.3986     51.07s\n",
      "   1    10.64          19.9165       23          6.78409          8.93869     28.16s\n",
      "   2    12.99          21.0593       27          6.58622          8.04709     28.89s\n",
      "   3    17.82          9.40817       19          6.24914          8.25361     28.83s\n",
      "   4    19.26          8.98816       35          6.16254          9.18567     25.57s\n",
      "   5    19.04          10.2422       43          5.99513          5.55128     25.65s\n",
      "   6    18.23          8.55514       43          5.81049          7.21304     21.58s\n",
      "   7    17.39          10.7962       41          5.78292          7.69546     19.84s\n",
      "   8    17.74          9.69563       19          5.56516           7.4378     19.17s\n",
      "   9    20.00          19.4874       21          5.08983          7.75918     17.33s\n",
      "  10    21.02          10.2772       21          5.20735          6.70156     16.32s\n",
      "  11    20.99          9.16548       21           4.9311           9.1878     16.02s\n",
      "  12    20.25          9.33324       39          5.16914          7.32807     13.11s\n",
      "  13    21.15          10.0633       25          5.07575          7.88595     10.59s\n",
      "  14    21.31          9.05597       21          4.99663          8.59796      9.48s\n",
      "  15    21.43          9.46893       21           5.0304          8.29403      7.33s\n",
      "  16    21.13          10.7658       21          4.89277          9.53278      5.84s\n",
      "  17    21.30          8.90971       21          5.00257          9.25119      3.73s\n",
      "  18    20.81          8.48721       21          4.93862          9.12005      1.92s\n",
      "  19    20.61          9.07438       21          4.94351          9.07606      0.00s\n",
      "-------------------Best formula: add(add(div(0.960, 0.640), mul(X0, mul(add(X1, X0), add(mul(X1, X1), mul(X0, X1))))), div(X1, X1))\n",
      "Mean Squared Error on Test Set: 604.9917833023129\n",
      "problem number 9 -----------------> ((50000, 6), (50000,))\n",
      "    |   Population Average    |             Best Individual              |\n",
      "---- ------------------------- ------------------------------------------ ----------\n",
      " Gen   Length          Fitness   Length          Fitness      OOB Fitness  Time Left\n"
     ]
    },
    {
     "name": "stderr",
     "output_type": "stream",
     "text": [
      "C:\\Users\\user\\AppData\\Local\\Packages\\PythonSoftwareFoundation.Python.3.10_qbz5n2kfra8p0\\LocalCache\\local-packages\\Python310\\site-packages\\sklearn\\base.py:474: FutureWarning: `BaseEstimator._validate_data` is deprecated in 1.6 and will be removed in 1.7. Use `sklearn.utils.validation.validate_data` instead. This function becomes public and is part of the scikit-learn developer API.\n",
      "  warnings.warn(\n"
     ]
    },
    {
     "name": "stdout",
     "output_type": "stream",
     "text": [
      "   0    28.37           253315       13          2706.85          2726.41      2.72m\n",
      "   1    12.42          3050.86       13          2707.15          2723.66      1.74m\n",
      "   2    22.57          3495.96       55          2638.22          2672.69      2.25m\n",
      "   3    50.41           163440       61          2567.45          2522.17      4.74m\n",
      "   4    46.64           719581       69           2286.4          2258.37      4.00m\n",
      "   5    66.31          10470.7       73          2279.76          2319.24      4.10m\n",
      "   6    73.92          5932.43      115          2251.64          2288.75      3.97m\n",
      "   7    80.29          33374.3       87          2181.41          2245.39      4.24m\n",
      "   8    95.75          59446.9      131          2182.94          2251.99      5.20m\n",
      "   9   114.86          97480.3       85           2155.2          2124.26      6.11m\n",
      "  10   135.31          59495.1       89           2149.6          2173.09      5.88m\n",
      "  11   114.11           191888       87          2146.14          2257.79      4.30m\n",
      "  12    93.07           156423       87          2140.66          2302.29      3.06m\n",
      "  13    88.55           120626       93          2136.46          2290.66      2.46m\n",
      "  14    86.88           903905       97          2139.26           2266.1      2.06m\n",
      "  15    89.86           111944       91          2134.63           2257.1      1.59m\n",
      "  16    90.89           164646       93          2132.96          2124.12      1.19m\n",
      "  17    92.21      1.31525e+10       93          2126.64          2181.28     47.34s\n",
      "  18    91.92           143964       87           2121.9          2270.96     24.14s\n",
      "  19    91.79          96728.9       93          2110.18          2117.23      0.00s\n",
      "-------------------Best formula: sub(mul(div(mul(mul(X4, -0.529), div(-0.464, X1)), -0.004), mul(X4, X1)), sub(add(add(sub(0.381, X2), add(X4, -0.478)), add(sub(mul(mul(X4, -0.529), div(-0.299, X1)), X3), mul(mul(X3, X5), div(X3, -0.037)))), sub(mul(X4, X1), sub(sub(sub(add(mul(-0.993, 0.969), mul(mul(X3, X5), div(X3, -0.109))), sub(mul(mul(-0.464, mul(div(mul(mul(X4, -0.529), div(X5, X1)), -0.004), mul(X4, X1))), -0.478), mul(add(mul(X4, -0.529), sub(div(X5, -0.037), -0.478)), mul(X2, X2)))), X5), mul(X4, X5)))))\n",
      "Mean Squared Error on Test Set: 11245206.75804221\n"
     ]
    }
   ],
   "source": [
    "files =['../data/problem_0.npz', '../data/problem_1.npz', '../data/problem_2.npz', '../data/problem_3.npz', '../data/problem_4.npz', '../data/problem_5.npz',\n",
    "       '../data/problem_6.npz', '../data/problem_7.npz', '../data/problem_8.npz']\n",
    "#files =['../data/problem_0.npz', '../data/problem_1.npz',]\n",
    "\n",
    "for (index, file) in enumerate(files, start=1):\n",
    "\n",
    "    problem = np.load(file)\n",
    "    x = problem['x'].T\n",
    "    y = problem['y']\n",
    "\n",
    "    print(\"problem number\",index,\"----------------->\", (x.shape, y.shape))\n",
    "\n",
    "    x_train, x_valid, y_train, y_valid = train_test_split(x, y, test_size=0.2, random_state=42)\n",
    "\n",
    "    # Define the symbolic regressor\n",
    "    est = SymbolicRegressor(\n",
    "        population_size=2000,\n",
    "        generations=20,\n",
    "        stopping_criteria=0.01,\n",
    "        p_crossover=0.7,\n",
    "        p_subtree_mutation=0.1,\n",
    "        p_hoist_mutation=0.05,\n",
    "        p_point_mutation=0.1,\n",
    "        max_samples=0.9,\n",
    "        verbose=1,\n",
    "        parsimony_coefficient=0.01,\n",
    "        random_state=42\n",
    "    )\n",
    "\n",
    "    # Fit the model\n",
    "    est.fit(x_train, y_train)\n",
    "\n",
    "    # Predict on test data\n",
    "    y_pred = est.predict(x_valid)\n",
    "\n",
    "    # Print the resulting formula\n",
    "    print(\"-------------------Best formula:\", est._program)\n",
    "\n",
    "    # Evaluate and visualize\n",
    "    mse = mean_squared_error(y_valid, y_pred)\n",
    "    print(f\"Mean Squared Error on Test Set: {mse}\")"
   ]
  }
 ],
 "metadata": {
  "kernelspec": {
   "display_name": "Python 3",
   "language": "python",
   "name": "python3"
  },
  "language_info": {
   "codemirror_mode": {
    "name": "ipython",
    "version": 3
   },
   "file_extension": ".py",
   "mimetype": "text/x-python",
   "name": "python",
   "nbconvert_exporter": "python",
   "pygments_lexer": "ipython3",
   "version": "3.10.11"
  }
 },
 "nbformat": 4,
 "nbformat_minor": 2
}
