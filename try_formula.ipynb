{
 "cells": [
  {
   "cell_type": "code",
   "execution_count": 35,
   "metadata": {},
   "outputs": [
    {
     "data": {
      "text/plain": [
       "(2, 1000)"
      ]
     },
     "execution_count": 35,
     "metadata": {},
     "output_type": "execute_result"
    }
   ],
   "source": [
    "import s332968\n",
    "import numpy as np\n",
    "from icecream import ic\n",
    "\n",
    "def true_f(x: np.ndarray) -> np.ndarray:\n",
    "    return x[0] + np.sin(x[1]) / 5\n",
    "\n",
    "TEST_SIZE = 10_000\n",
    "TRAIN_SIZE = 1000\n",
    "\n",
    "x_validation = np.vstack(\n",
    "    [\n",
    "        np.random.random_sample(size=TEST_SIZE) * 2 * np.pi - np.pi,\n",
    "        np.random.random_sample(size=TEST_SIZE) * 2 - 1,\n",
    "    ]\n",
    ")\n",
    "y_validation = true_f(x_validation)\n",
    "\n",
    "train_indexes = np.random.choice(TEST_SIZE, size=TRAIN_SIZE, replace=False)\n",
    "x_train = x_validation[:, train_indexes]\n",
    "y_train = y_validation[train_indexes]\n",
    "\n",
    "problem = np.load('problem_0.npz')\n",
    "x = problem['x']\n",
    "y = problem['y']\n",
    "x.shape\n",
    "\n"
   ]
  },
  {
   "cell_type": "code",
   "execution_count": 34,
   "metadata": {},
   "outputs": [
    {
     "data": {
      "text/plain": [
       "(1000,)"
      ]
     },
     "execution_count": 34,
     "metadata": {},
     "output_type": "execute_result"
    }
   ],
   "source": [
    "y.shape"
   ]
  },
  {
   "cell_type": "code",
   "execution_count": 32,
   "metadata": {},
   "outputs": [
    {
     "name": "stdout",
     "output_type": "stream",
     "text": [
      "MSE (real) : 0.00411594\n",
      "MSE (train): 0.00439585\n"
     ]
    }
   ],
   "source": [
    "print(f\"MSE (real) : {100*np.square(y_validation-s332968.f0(x_validation)).sum()/len(y_validation):g}\")\n",
    "print(f\"MSE (train): {100*np.square(y_train-s332968.f0(x_train)).sum()/len(y_train):g}\")"
   ]
  },
  {
   "cell_type": "code",
   "execution_count": 33,
   "metadata": {},
   "outputs": [
    {
     "name": "stdout",
     "output_type": "stream",
     "text": [
      "MSE (train): 4.3958501791194135e-05\n",
      "MSE (validation): 4.115943029107185e-05\n"
     ]
    }
   ],
   "source": [
    "# Ensure s332968.f0 outputs compatible shapes\n",
    "y_train_pred = s332968.f0(x_train)\n",
    "y_validation_pred = s332968.f0(x_validation)\n",
    "\n",
    "# Compute and print Mean Squared Error (MSE)\n",
    "mse_train = np.mean(np.square(y_train - y_train_pred))\n",
    "mse_validation = np.mean(np.square(y_validation - y_validation_pred))\n",
    "\n",
    "print(f\"MSE (train): {mse_train}\")\n",
    "print(f\"MSE (validation): {mse_validation}\")"
   ]
  }
 ],
 "metadata": {
  "kernelspec": {
   "display_name": "Python 3",
   "language": "python",
   "name": "python3"
  },
  "language_info": {
   "codemirror_mode": {
    "name": "ipython",
    "version": 3
   },
   "file_extension": ".py",
   "mimetype": "text/x-python",
   "name": "python",
   "nbconvert_exporter": "python",
   "pygments_lexer": "ipython3",
   "version": "3.10.11"
  }
 },
 "nbformat": 4,
 "nbformat_minor": 2
}
